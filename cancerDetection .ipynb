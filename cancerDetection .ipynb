{
 "cells": [
  {
   "cell_type": "markdown",
   "metadata": {},
   "source": [
    "# Week 3 CNN Cancer Detection Kaggle Mini-Project\n",
    "This is my project for the Deep Learning course focused on convolutional neural networks. You can find more info on GiHub on my profile [here](https://github.com/rorrostieta/KaggleCancerDetection). I'll be following the rubric given to create this project and guide you through my proces for the competition.\n",
    "\n",
    "The data can be found on Kaggle on the competition [Histopathologic Cancer Detection](https://www.kaggle.com/c/histopathologic-cancer-detection/) you can go there and look for more details to participate on the competition.\n",
    "\n",
    "## Problem\n",
    "In this competition we're given a series of small images or snippets from pathology scans, each of this scans may contain some cancerous tissue within them. Our goal is to create a model which identifies the presence of cancerous tissue within the images, since we're not doctors or specialists with the domain knowledge, the data provided to train the model is labelled where if there is an area of the image which contains cancerous tissue it is identified with a number 1.\n",
    "\n",
    "## Exploratory Data Analysis\n",
    "I'll be doing some basic EDA just to see if the data provided could be cleaned out and see how it is labeled."
   ]
  },
  {
   "cell_type": "code",
   "execution_count": 22,
   "metadata": {},
   "outputs": [],
   "source": [
    "import pandas as pd\n",
    "import numpy as np\n",
    "from PIL import Image\n",
    "\n",
    "# Importing the Data\n",
    "df = pd.read_csv('./data/train_labels.csv')"
   ]
  },
  {
   "cell_type": "code",
   "execution_count": 23,
   "metadata": {},
   "outputs": [
    {
     "name": "stdout",
     "output_type": "stream",
     "text": [
      "<class 'pandas.core.frame.DataFrame'>\n",
      "RangeIndex: 220025 entries, 0 to 220024\n",
      "Data columns (total 2 columns):\n",
      " #   Column  Non-Null Count   Dtype \n",
      "---  ------  --------------   ----- \n",
      " 0   id      220025 non-null  object\n",
      " 1   label   220025 non-null  int64 \n",
      "dtypes: int64(1), object(1)\n",
      "memory usage: 3.4+ MB\n"
     ]
    }
   ],
   "source": [
    "# General info\n",
    "df.info()"
   ]
  },
  {
   "cell_type": "code",
   "execution_count": 42,
   "metadata": {},
   "outputs": [
    {
     "name": "stdout",
     "output_type": "stream",
     "text": [
      "% Positive Cases: 40.5\n",
      "% Nevative Cases: 59.5\n"
     ]
    },
    {
     "data": {
      "text/plain": [
       "<AxesSubplot:>"
      ]
     },
     "execution_count": 42,
     "metadata": {},
     "output_type": "execute_result"
    },
    {
     "data": {
      "image/png": "[encoded data removed]",
      "text/plain": [
       "<Figure size 432x288 with 1 Axes>"
      ]
     },
     "metadata": {
      "needs_background": "light"
     },
     "output_type": "display_data"
    }
   ],
   "source": [
    "# Histogram to label distribution\n",
    "pos_percent = round(df['label'].sum()/len(df['label'])*100, 2)\n",
    "neg_percent = 100 - pos_percent\n",
    "print('% Positive Cases:',pos_percent)\n",
    "print('% Nevative Cases:',neg_percent)\n",
    "df['label'].hist()"
   ]
  },
  {
   "cell_type": "code",
   "execution_count": 37,
   "metadata": {},
   "outputs": [
    {
     "name": "stdout",
     "output_type": "stream",
     "text": [
      "Sample Img\n"
     ]
    },
    {
     "data": {
      "image/png": "[encoded data removed]",
      "text/plain": [
       "<PIL.TiffImagePlugin.TiffImageFile image mode=RGB size=96x96 at 0x29C887DD300>"
      ]
     },
     "metadata": {},
     "output_type": "display_data"
    },
    {
     "name": "stdout",
     "output_type": "stream",
     "text": [
      "Image size: (96, 96)\n",
      "Image as array shape: (96, 96, 3)\n"
     ]
    }
   ],
   "source": [
    "# Extracting a file to identify the structure\n",
    "eda_file = df['id'][0]\n",
    "file_path = './data/train/' + eda_file + '.tif'\n",
    "im = Image.open(file_path)\n",
    "\n",
    "print('Sample Img')\n",
    "display(im)\n",
    "print('Image size:',im.size)\n",
    "\n",
    "# Converting in to an array\n",
    "imarray = np.array(im)\n",
    "print('Image as array shape:',imarray.shape)\n",
    "# print(imarray)"
   ]
  },
  {
   "cell_type": "markdown",
   "metadata": {},
   "source": [
    "### EDA Results\n",
    "The results from the EDA we show that we have 220,025 entries with a 60/40 negative positive ratio respectively, this is useful since we have a good amount of examples to train the model.\n",
    "\n",
    "Each of the entry has an **id** corresponding to an image within the data set provided. This images are of size 96x96 pixels and when we transform these into arrays we can obtain the three planes RGB."
   ]
  }
 ],
 "metadata": {
  "kernelspec": {
   "display_name": "Python 3.10.6 64-bit",
   "language": "python",
   "name": "python3"
  },
  "language_info": {
   "codemirror_mode": {
    "name": "ipython",
    "version": 3
   },
   "file_extension": ".py",
   "mimetype": "text/x-python",
   "name": "python",
   "nbconvert_exporter": "python",
   "pygments_lexer": "ipython3",
   "version": "3.10.6"
  },
  "orig_nbformat": 4,
  "vscode": {
   "interpreter": {
    "hash": "fa5e5e9a487e2dd76c7ea7823608b3e5576beb764152fabbf69ac7563ac3923b"
   }
  }
 },
 "nbformat": 4,
 "nbformat_minor": 2
}
