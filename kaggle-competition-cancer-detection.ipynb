{
 "cells": [
  {
   "cell_type": "markdown",
   "id": "ae39968e",
   "metadata": {
    "_cell_guid": "b1076dfc-b9ad-4769-8c92-a6c4dae69d19",
    "_uuid": "8f2839f25d086af736a60e9eeb907d3b93b6e0e5",
    "papermill": {
     "duration": 0.004726,
     "end_time": "2022-09-12T00:27:45.580815",
     "exception": false,
     "start_time": "2022-09-12T00:27:45.576089",
     "status": "completed"
    },
    "tags": []
   },
   "source": [
    "# Week 3 CNN Cancer Detection Kaggle Mini-Project\n",
    "This is my project for the Deep Learning course focused on convolutional neural networks. You can find more info on GiHub on my profile [here](https://github.com/rorrostieta/KaggleCancerDetection). I'll be following the rubric given to create this project and guide you through my proces for the competition.\n",
    "\n",
    "The data can be found on Kaggle on the competition [Histopathologic Cancer Detection](https://www.kaggle.com/c/histopathologic-cancer-detection/) you can go there and look for more details to participate on the competition.\n",
    "\n",
    "## Problem\n",
    "In this competition we're given a series of small images or snippets from pathology scans, each of this scans may contain some cancerous tissue within them. Our goal is to create a model which identifies the presence of cancerous tissue within the images, since we're not doctors or specialists with the domain knowledge, the data provided to train the model is labelled where if there is an area of the image which contains cancerous tissue it is identified with a number 1.\n",
    "\n",
    "## Exploratory Data Analysis\n",
    "I'll be doing some basic EDA just to see if the data provided could be cleaned out and see how it is labeled."
   ]
  },
  {
   "cell_type": "code",
   "execution_count": 1,
   "id": "f570d541",
   "metadata": {
    "execution": {
     "iopub.execute_input": "2022-09-12T00:27:45.589077Z",
     "iopub.status.busy": "2022-09-12T00:27:45.588538Z",
     "iopub.status.idle": "2022-09-12T00:27:46.014389Z",
     "shell.execute_reply": "2022-09-12T00:27:46.013387Z"
    },
    "papermill": {
     "duration": 0.434738,
     "end_time": "2022-09-12T00:27:46.017635",
     "exception": false,
     "start_time": "2022-09-12T00:27:45.582897",
     "status": "completed"
    },
    "tags": []
   },
   "outputs": [],
   "source": [
    "import pandas as pd\n",
    "import numpy as np\n",
    "from PIL import Image\n",
    "\n",
    "# Importing the Data\n",
    "df = pd.read_csv('../input/histopathologic-cancer-detection/train_labels.csv', dtype=str)"
   ]
  }
 ],
 "metadata": {
  "kernelspec": {
   "display_name": "Python 3",
   "language": "python",
   "name": "python3"
  },
  "language_info": {
   "codemirror_mode": {
    "name": "ipython",
    "version": 3
   },
   "file_extension": ".py",
   "mimetype": "text/x-python",
   "name": "python",
   "nbconvert_exporter": "python",
   "pygments_lexer": "ipython3",
   "version": "3.7.12"
  },
  "papermill": {
   "default_parameters": {},
   "duration": 8.992144,
   "end_time": "2022-09-12T00:27:46.544250",
   "environment_variables": {},
   "exception": null,
   "input_path": "__notebook__.ipynb",
   "output_path": "__notebook__.ipynb",
   "parameters": {},
   "start_time": "2022-09-12T00:27:37.552106",
   "version": "2.3.4"
  }
 },
 "nbformat": 4,
 "nbformat_minor": 5
}
